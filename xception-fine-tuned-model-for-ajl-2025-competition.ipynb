{
 "cells": [
  {
   "cell_type": "code",
   "execution_count": 1,
   "id": "0bb94b1f",
   "metadata": {
    "execution": {
     "iopub.execute_input": "2025-03-22T21:59:30.657738Z",
     "iopub.status.busy": "2025-03-22T21:59:30.657499Z",
     "iopub.status.idle": "2025-03-22T21:59:43.505067Z",
     "shell.execute_reply": "2025-03-22T21:59:43.504252Z"
    },
    "papermill": {
     "duration": 12.852789,
     "end_time": "2025-03-22T21:59:43.506598",
     "exception": false,
     "start_time": "2025-03-22T21:59:30.653809",
     "status": "completed"
    },
    "tags": []
   },
   "outputs": [],
   "source": [
    "# Import Necessary Libraries\n",
    "import tensorflow as tf\n",
    "from tensorflow.keras.applications import Xception\n",
    "from tensorflow.keras.layers import Dense, GlobalAveragePooling2D, Dropout\n",
    "from tensorflow.keras.models import Model\n",
    "from tensorflow.keras.optimizers import Adam\n",
    "from tensorflow.keras.callbacks import EarlyStopping, ModelCheckpoint, ReduceLROnPlateau\n",
    "from sklearn.preprocessing import LabelEncoder\n",
    "from sklearn.model_selection import train_test_split\n",
    "import numpy as np\n",
    "import pandas as pd\n",
    "import os"
   ]
  },
  {
   "cell_type": "code",
   "execution_count": 2,
   "id": "50e7baca",
   "metadata": {
    "execution": {
     "iopub.execute_input": "2025-03-22T21:59:43.513122Z",
     "iopub.status.busy": "2025-03-22T21:59:43.512658Z",
     "iopub.status.idle": "2025-03-22T21:59:43.516292Z",
     "shell.execute_reply": "2025-03-22T21:59:43.515539Z"
    },
    "papermill": {
     "duration": 0.007819,
     "end_time": "2025-03-22T21:59:43.517401",
     "exception": false,
     "start_time": "2025-03-22T21:59:43.509582",
     "status": "completed"
    },
    "tags": []
   },
   "outputs": [],
   "source": [
    "# Suppress TensorFlow logging\n",
    "os.environ['TF_CPP_MIN_LOG_LEVEL'] = '3'\n",
    "tf.get_logger().setLevel('ERROR')"
   ]
  },
  {
   "cell_type": "code",
   "execution_count": 3,
   "id": "fa5b75c2",
   "metadata": {
    "execution": {
     "iopub.execute_input": "2025-03-22T21:59:43.523866Z",
     "iopub.status.busy": "2025-03-22T21:59:43.523662Z",
     "iopub.status.idle": "2025-03-22T21:59:43.560867Z",
     "shell.execute_reply": "2025-03-22T21:59:43.560246Z"
    },
    "papermill": {
     "duration": 0.042074,
     "end_time": "2025-03-22T21:59:43.561991",
     "exception": false,
     "start_time": "2025-03-22T21:59:43.519917",
     "status": "completed"
    },
    "tags": []
   },
   "outputs": [],
   "source": [
    "# Load training and test data\n",
    "train_df = pd.read_csv('/kaggle/input/bttai-ajl-2025/train.csv')\n",
    "test_df = pd.read_csv('/kaggle/input/bttai-ajl-2025/test.csv')\n",
    "\n",
    "# Add .jpg extension to md5hash column\n",
    "train_df['md5hash'] = train_df['md5hash'].astype(str) + '.jpg'\n",
    "test_df['md5hash'] = test_df['md5hash'].astype(str) + '.jpg'\n",
    "\n",
    "# Combine label and md5hash to form the correct path\n",
    "train_df['file_path'] = train_df['label'] + '/' + train_df['md5hash']"
   ]
  },
  {
   "cell_type": "code",
   "execution_count": 4,
   "id": "20b3ceba",
   "metadata": {
    "execution": {
     "iopub.execute_input": "2025-03-22T21:59:43.567629Z",
     "iopub.status.busy": "2025-03-22T21:59:43.567379Z",
     "iopub.status.idle": "2025-03-22T21:59:43.581675Z",
     "shell.execute_reply": "2025-03-22T21:59:43.580747Z"
    },
    "papermill": {
     "duration": 0.019767,
     "end_time": "2025-03-22T21:59:43.584288",
     "exception": false,
     "start_time": "2025-03-22T21:59:43.564521",
     "status": "completed"
    },
    "tags": []
   },
   "outputs": [
    {
     "name": "stdout",
     "output_type": "stream",
     "text": [
      "                                md5hash  fitzpatrick_scale  \\\n",
      "0  fd06d13de341cc75ad679916c5d7e6a6.jpg                  4   \n",
      "1  a4bb4e5206c4e89a303f470576fc5253.jpg                  1   \n",
      "2  c94ce27e389f96bda998e7c3fa5c4a2e.jpg                  5   \n",
      "3  ebcf2b50dd943c700d4e2b586fcd4425.jpg                  3   \n",
      "4  c77d6c895f05fea73a8f3704307036c0.jpg                  1   \n",
      "\n",
      "   fitzpatrick_centaur                             label nine_partition_label  \\\n",
      "0                    4                 prurigo-nodularis     benign-epidermal   \n",
      "1                    1  basal-cell-carcinoma-morpheiform  malignant-epidermal   \n",
      "2                    5                            keloid         inflammatory   \n",
      "3                    3              basal-cell-carcinoma  malignant-epidermal   \n",
      "4                    1                 prurigo-nodularis     benign-epidermal   \n",
      "\n",
      "  three_partition_label            qc  ddi_scale  \\\n",
      "0                benign           NaN         34   \n",
      "1             malignant           NaN         12   \n",
      "2        non-neoplastic  1 Diagnostic         56   \n",
      "3             malignant           NaN         34   \n",
      "4                benign           NaN         12   \n",
      "\n",
      "                                           file_path  \n",
      "0  prurigo-nodularis/fd06d13de341cc75ad679916c5d7...  \n",
      "1  basal-cell-carcinoma-morpheiform/a4bb4e5206c4e...  \n",
      "2        keloid/c94ce27e389f96bda998e7c3fa5c4a2e.jpg  \n",
      "3  basal-cell-carcinoma/ebcf2b50dd943c700d4e2b586...  \n",
      "4  prurigo-nodularis/c77d6c895f05fea73a8f37043070...  \n"
     ]
    }
   ],
   "source": [
    "# Check the first few rows to understand the structure\n",
    "print(train_df.head())"
   ]
  },
  {
   "cell_type": "code",
   "execution_count": 5,
   "id": "a5fa9072",
   "metadata": {
    "execution": {
     "iopub.execute_input": "2025-03-22T21:59:43.590822Z",
     "iopub.status.busy": "2025-03-22T21:59:43.590584Z",
     "iopub.status.idle": "2025-03-22T21:59:43.603175Z",
     "shell.execute_reply": "2025-03-22T21:59:43.602617Z"
    },
    "papermill": {
     "duration": 0.017378,
     "end_time": "2025-03-22T21:59:43.604359",
     "exception": false,
     "start_time": "2025-03-22T21:59:43.586981",
     "status": "completed"
    },
    "tags": []
   },
   "outputs": [],
   "source": [
    "# Encode the labels\n",
    "label_encoder = LabelEncoder()\n",
    "train_df['encoded_label'] = label_encoder.fit_transform(train_df['label'])\n",
    "\n",
    "# Split the data into training and validation sets\n",
    "train_data, val_data = train_test_split(train_df, test_size=0.2, random_state=42)\n",
    "\n",
    "# Define directories\n",
    "train_dir = '/kaggle/input/bttai-ajl-2025/train/train/'\n",
    "test_dir = '/kaggle/input/bttai-ajl-2025/test/test/'\n",
    "\n",
    "# Function to load and preprocess images\n",
    "def load_and_preprocess_image(file_path, label):\n",
    "    image = tf.io.read_file(file_path)\n",
    "    image = tf.image.decode_jpeg(image, channels=3)\n",
    "    image = tf.image.resize(image, (224, 224))\n",
    "    image = image / 255.0  # Normalize to [0, 1]\n",
    "    return image, label"
   ]
  },
  {
   "cell_type": "code",
   "execution_count": 6,
   "id": "dedab73b",
   "metadata": {
    "execution": {
     "iopub.execute_input": "2025-03-22T21:59:43.610087Z",
     "iopub.status.busy": "2025-03-22T21:59:43.609880Z",
     "iopub.status.idle": "2025-03-22T21:59:44.574019Z",
     "shell.execute_reply": "2025-03-22T21:59:44.573381Z"
    },
    "papermill": {
     "duration": 0.96847,
     "end_time": "2025-03-22T21:59:44.575449",
     "exception": false,
     "start_time": "2025-03-22T21:59:43.606979",
     "status": "completed"
    },
    "tags": []
   },
   "outputs": [],
   "source": [
    "# Create training and validation datasets\n",
    "def create_dataset(df, directory, batch_size=32, shuffle=True):\n",
    "    file_paths = df['file_path'].apply(lambda x: os.path.join(directory, x)).values\n",
    "    labels = df['encoded_label'].values\n",
    "\n",
    "    dataset = tf.data.Dataset.from_tensor_slices((file_paths, labels))\n",
    "    dataset = dataset.map(load_and_preprocess_image, num_parallel_calls=tf.data.AUTOTUNE)\n",
    "\n",
    "    if shuffle:\n",
    "        dataset = dataset.shuffle(buffer_size=len(df))\n",
    "\n",
    "    dataset = dataset.batch(batch_size)\n",
    "    dataset = dataset.repeat()  # Repeat indefinitely\n",
    "    dataset = dataset.prefetch(tf.data.AUTOTUNE)\n",
    "\n",
    "    return dataset\n",
    "\n",
    "# Create training and validation datasets\n",
    "train_dataset = create_dataset(train_data, train_dir, shuffle=True)\n",
    "val_dataset = create_dataset(val_data, train_dir, shuffle=False)\n",
    "\n",
    "# Calculate steps_per_epoch and validation_steps\n",
    "batch_size = 32\n",
    "steps_per_epoch = len(train_data) // batch_size\n",
    "validation_steps = len(val_data) // batch_size"
   ]
  },
  {
   "cell_type": "code",
   "execution_count": 7,
   "id": "849c8a1a",
   "metadata": {
    "execution": {
     "iopub.execute_input": "2025-03-22T21:59:44.582958Z",
     "iopub.status.busy": "2025-03-22T21:59:44.582703Z",
     "iopub.status.idle": "2025-03-22T21:59:47.300952Z",
     "shell.execute_reply": "2025-03-22T21:59:47.300269Z"
    },
    "papermill": {
     "duration": 2.723016,
     "end_time": "2025-03-22T21:59:47.302564",
     "exception": false,
     "start_time": "2025-03-22T21:59:44.579548",
     "status": "completed"
    },
    "tags": []
   },
   "outputs": [
    {
     "name": "stdout",
     "output_type": "stream",
     "text": [
      "Downloading data from https://storage.googleapis.com/tensorflow/keras-applications/xception/xception_weights_tf_dim_ordering_tf_kernels_notop.h5\n",
      "\u001b[1m83683744/83683744\u001b[0m \u001b[32m━━━━━━━━━━━━━━━━━━━━\u001b[0m\u001b[37m\u001b[0m \u001b[1m0s\u001b[0m 0us/step\n"
     ]
    }
   ],
   "source": [
    "# Build the Xception model with fine-tuning\n",
    "def build_xception_model(fine_tune=True):\n",
    "    # Load pre-trained Xception model (without top layers)\n",
    "    base_model = Xception(\n",
    "        weights='imagenet',\n",
    "        include_top=False,\n",
    "        input_shape=(224, 224, 3)\n",
    "    )\n",
    "\n",
    "    # Freeze all layers in the base model if not fine-tuning\n",
    "    for layer in base_model.layers:\n",
    "        layer.trainable = fine_tune\n",
    "\n",
    "    # Add custom classification layers\n",
    "    x = base_model.output\n",
    "    x = GlobalAveragePooling2D()(x)\n",
    "    x = Dense(1024, activation='relu', kernel_regularizer=tf.keras.regularizers.l2(0.01))(x)\n",
    "    x = Dropout(0.5)(x)\n",
    "    num_classes = len(label_encoder.classes_)\n",
    "    predictions = Dense(num_classes, activation='softmax')(x)\n",
    "\n",
    "    # Create the final model\n",
    "    model = Model(inputs=base_model.input, outputs=predictions)\n",
    "\n",
    "    # Compile the model\n",
    "    model.compile(\n",
    "        optimizer=Adam(learning_rate=1e-4),\n",
    "        loss='sparse_categorical_crossentropy',\n",
    "        metrics=['accuracy']\n",
    "    )\n",
    "    return model\n",
    "\n",
    "# Build the fine-tuned model\n",
    "fine_tuned_model = build_xception_model(fine_tune=True)\n",
    "\n",
    "# Add early stopping and learning rate scheduler\n",
    "early_stopping = EarlyStopping(\n",
    "    monitor='val_loss',\n",
    "    patience=5,\n",
    "    restore_best_weights=True\n",
    ")\n",
    "\n",
    "reduce_lr = ReduceLROnPlateau(\n",
    "    monitor='val_loss',\n",
    "    factor=0.2,\n",
    "    patience=3,\n",
    "    min_lr=1e-6\n",
    ")"
   ]
  },
  {
   "cell_type": "code",
   "execution_count": 8,
   "id": "df21e125",
   "metadata": {
    "execution": {
     "iopub.execute_input": "2025-03-22T21:59:47.310091Z",
     "iopub.status.busy": "2025-03-22T21:59:47.309856Z",
     "iopub.status.idle": "2025-03-22T22:12:47.099666Z",
     "shell.execute_reply": "2025-03-22T22:12:47.098824Z"
    },
    "papermill": {
     "duration": 779.795064,
     "end_time": "2025-03-22T22:12:47.101071",
     "exception": false,
     "start_time": "2025-03-22T21:59:47.306007",
     "status": "completed"
    },
    "tags": []
   },
   "outputs": [
    {
     "name": "stdout",
     "output_type": "stream",
     "text": [
      "Training Fine-Tuned Xception Model\n",
      "Epoch 1/20\n",
      "\u001b[1m71/71\u001b[0m \u001b[32m━━━━━━━━━━━━━━━━━━━━\u001b[0m\u001b[37m\u001b[0m \u001b[1m95s\u001b[0m 487ms/step - accuracy: 0.1332 - loss: 15.8607 - val_accuracy: 0.2776 - val_loss: 13.6058 - learning_rate: 1.0000e-04\n",
      "Epoch 2/20\n",
      "\u001b[1m71/71\u001b[0m \u001b[32m━━━━━━━━━━━━━━━━━━━━\u001b[0m\u001b[37m\u001b[0m \u001b[1m70s\u001b[0m 612ms/step - accuracy: 0.4313 - loss: 12.5626 - val_accuracy: 0.4407 - val_loss: 11.1651 - learning_rate: 1.0000e-04\n",
      "Epoch 3/20\n",
      "\u001b[1m71/71\u001b[0m \u001b[32m━━━━━━━━━━━━━━━━━━━━\u001b[0m\u001b[37m\u001b[0m \u001b[1m37s\u001b[0m 516ms/step - accuracy: 0.6486 - loss: 10.0528 - val_accuracy: 0.5130 - val_loss: 9.4066 - learning_rate: 1.0000e-04\n",
      "Epoch 4/20\n",
      "\u001b[1m71/71\u001b[0m \u001b[32m━━━━━━━━━━━━━━━━━━━━\u001b[0m\u001b[37m\u001b[0m \u001b[1m37s\u001b[0m 519ms/step - accuracy: 0.8097 - loss: 8.0991 - val_accuracy: 0.5204 - val_loss: 8.1135 - learning_rate: 1.0000e-04\n",
      "Epoch 5/20\n",
      "\u001b[1m71/71\u001b[0m \u001b[32m━━━━━━━━━━━━━━━━━━━━\u001b[0m\u001b[37m\u001b[0m \u001b[1m36s\u001b[0m 504ms/step - accuracy: 0.9376 - loss: 6.5031 - val_accuracy: 0.5463 - val_loss: 6.9631 - learning_rate: 1.0000e-04\n",
      "Epoch 6/20\n",
      "\u001b[1m71/71\u001b[0m \u001b[32m━━━━━━━━━━━━━━━━━━━━\u001b[0m\u001b[37m\u001b[0m \u001b[1m34s\u001b[0m 474ms/step - accuracy: 0.9817 - loss: 5.2808 - val_accuracy: 0.5611 - val_loss: 6.0570 - learning_rate: 1.0000e-04\n",
      "Epoch 7/20\n",
      "\u001b[1m71/71\u001b[0m \u001b[32m━━━━━━━━━━━━━━━━━━━━\u001b[0m\u001b[37m\u001b[0m \u001b[1m34s\u001b[0m 476ms/step - accuracy: 0.9914 - loss: 4.2719 - val_accuracy: 0.5667 - val_loss: 5.1698 - learning_rate: 1.0000e-04\n",
      "Epoch 8/20\n",
      "\u001b[1m71/71\u001b[0m \u001b[32m━━━━━━━━━━━━━━━━━━━━\u001b[0m\u001b[37m\u001b[0m \u001b[1m34s\u001b[0m 476ms/step - accuracy: 0.9925 - loss: 3.4445 - val_accuracy: 0.5648 - val_loss: 4.4455 - learning_rate: 1.0000e-04\n",
      "Epoch 9/20\n",
      "\u001b[1m71/71\u001b[0m \u001b[32m━━━━━━━━━━━━━━━━━━━━\u001b[0m\u001b[37m\u001b[0m \u001b[1m35s\u001b[0m 488ms/step - accuracy: 0.9995 - loss: 2.7357 - val_accuracy: 0.5722 - val_loss: 3.8733 - learning_rate: 1.0000e-04\n",
      "Epoch 10/20\n",
      "\u001b[1m71/71\u001b[0m \u001b[32m━━━━━━━━━━━━━━━━━━━━\u001b[0m\u001b[37m\u001b[0m \u001b[1m34s\u001b[0m 476ms/step - accuracy: 0.9998 - loss: 2.1491 - val_accuracy: 0.5778 - val_loss: 3.3305 - learning_rate: 1.0000e-04\n",
      "Epoch 11/20\n",
      "\u001b[1m71/71\u001b[0m \u001b[32m━━━━━━━━━━━━━━━━━━━━\u001b[0m\u001b[37m\u001b[0m \u001b[1m34s\u001b[0m 475ms/step - accuracy: 1.0000 - loss: 1.6733 - val_accuracy: 0.5630 - val_loss: 2.9233 - learning_rate: 1.0000e-04\n",
      "Epoch 12/20\n",
      "\u001b[1m71/71\u001b[0m \u001b[32m━━━━━━━━━━━━━━━━━━━━\u001b[0m\u001b[37m\u001b[0m \u001b[1m34s\u001b[0m 475ms/step - accuracy: 1.0000 - loss: 1.2886 - val_accuracy: 0.5796 - val_loss: 2.5806 - learning_rate: 1.0000e-04\n",
      "Epoch 13/20\n",
      "\u001b[1m71/71\u001b[0m \u001b[32m━━━━━━━━━━━━━━━━━━━━\u001b[0m\u001b[37m\u001b[0m \u001b[1m34s\u001b[0m 474ms/step - accuracy: 1.0000 - loss: 0.9840 - val_accuracy: 0.5815 - val_loss: 2.2838 - learning_rate: 1.0000e-04\n",
      "Epoch 14/20\n",
      "\u001b[1m71/71\u001b[0m \u001b[32m━━━━━━━━━━━━━━━━━━━━\u001b[0m\u001b[37m\u001b[0m \u001b[1m34s\u001b[0m 474ms/step - accuracy: 1.0000 - loss: 0.7459 - val_accuracy: 0.5907 - val_loss: 2.1227 - learning_rate: 1.0000e-04\n",
      "Epoch 15/20\n",
      "\u001b[1m71/71\u001b[0m \u001b[32m━━━━━━━━━━━━━━━━━━━━\u001b[0m\u001b[37m\u001b[0m \u001b[1m34s\u001b[0m 473ms/step - accuracy: 1.0000 - loss: 0.5646 - val_accuracy: 0.5852 - val_loss: 1.9823 - learning_rate: 1.0000e-04\n",
      "Epoch 16/20\n",
      "\u001b[1m71/71\u001b[0m \u001b[32m━━━━━━━━━━━━━━━━━━━━\u001b[0m\u001b[37m\u001b[0m \u001b[1m34s\u001b[0m 473ms/step - accuracy: 1.0000 - loss: 0.4234 - val_accuracy: 0.5648 - val_loss: 1.8946 - learning_rate: 1.0000e-04\n",
      "Epoch 17/20\n",
      "\u001b[1m71/71\u001b[0m \u001b[32m━━━━━━━━━━━━━━━━━━━━\u001b[0m\u001b[37m\u001b[0m \u001b[1m34s\u001b[0m 473ms/step - accuracy: 1.0000 - loss: 0.3222 - val_accuracy: 0.5685 - val_loss: 1.8433 - learning_rate: 1.0000e-04\n",
      "Epoch 18/20\n",
      "\u001b[1m71/71\u001b[0m \u001b[32m━━━━━━━━━━━━━━━━━━━━\u001b[0m\u001b[37m\u001b[0m \u001b[1m34s\u001b[0m 474ms/step - accuracy: 0.9993 - loss: 0.2501 - val_accuracy: 0.5796 - val_loss: 1.7568 - learning_rate: 1.0000e-04\n",
      "Epoch 19/20\n",
      "\u001b[1m71/71\u001b[0m \u001b[32m━━━━━━━━━━━━━━━━━━━━\u001b[0m\u001b[37m\u001b[0m \u001b[1m34s\u001b[0m 473ms/step - accuracy: 1.0000 - loss: 0.1949 - val_accuracy: 0.5680 - val_loss: 1.7576 - learning_rate: 1.0000e-04\n",
      "Epoch 20/20\n",
      "\u001b[1m71/71\u001b[0m \u001b[32m━━━━━━━━━━━━━━━━━━━━\u001b[0m\u001b[37m\u001b[0m \u001b[1m34s\u001b[0m 474ms/step - accuracy: 1.0000 - loss: 0.1517 - val_accuracy: 0.5796 - val_loss: 1.6872 - learning_rate: 1.0000e-04\n"
     ]
    },
    {
     "data": {
      "text/plain": [
       "<keras.src.callbacks.history.History at 0x7add4d231ed0>"
      ]
     },
     "execution_count": 8,
     "metadata": {},
     "output_type": "execute_result"
    }
   ],
   "source": [
    "# Train the fine-tuned Xception model\n",
    "print(\"Training Fine-Tuned Xception Model\")\n",
    "fine_tuned_model.fit(\n",
    "    train_dataset,\n",
    "    steps_per_epoch=steps_per_epoch,\n",
    "    validation_data=val_dataset,\n",
    "    validation_steps=validation_steps,\n",
    "    epochs=20,\n",
    "    callbacks=[early_stopping, reduce_lr]\n",
    ")"
   ]
  },
  {
   "cell_type": "code",
   "execution_count": 9,
   "id": "51219be9",
   "metadata": {
    "execution": {
     "iopub.execute_input": "2025-03-22T22:12:47.243838Z",
     "iopub.status.busy": "2025-03-22T22:12:47.243589Z",
     "iopub.status.idle": "2025-03-22T22:12:47.268462Z",
     "shell.execute_reply": "2025-03-22T22:12:47.267824Z"
    },
    "papermill": {
     "duration": 0.097142,
     "end_time": "2025-03-22T22:12:47.269742",
     "exception": false,
     "start_time": "2025-03-22T22:12:47.172600",
     "status": "completed"
    },
    "tags": []
   },
   "outputs": [],
   "source": [
    "# Create a dataset for the test data\n",
    "test_file_paths = test_df['md5hash'].apply(lambda x: os.path.join(test_dir, x)).values\n",
    "test_labels = np.zeros(len(test_file_paths))  # Dummy labels\n",
    "test_dataset = tf.data.Dataset.from_tensor_slices((test_file_paths, test_labels))\n",
    "test_dataset = test_dataset.map(load_and_preprocess_image, num_parallel_calls=tf.data.AUTOTUNE)\n",
    "test_dataset = test_dataset.batch(batch_size)\n",
    "test_dataset = test_dataset.prefetch(tf.data.AUTOTUNE)"
   ]
  },
  {
   "cell_type": "code",
   "execution_count": 10,
   "id": "e23f8462",
   "metadata": {
    "execution": {
     "iopub.execute_input": "2025-03-22T22:12:47.408993Z",
     "iopub.status.busy": "2025-03-22T22:12:47.408737Z",
     "iopub.status.idle": "2025-03-22T22:13:00.031621Z",
     "shell.execute_reply": "2025-03-22T22:13:00.030898Z"
    },
    "papermill": {
     "duration": 12.693972,
     "end_time": "2025-03-22T22:13:00.032907",
     "exception": false,
     "start_time": "2025-03-22T22:12:47.338935",
     "status": "completed"
    },
    "tags": []
   },
   "outputs": [
    {
     "name": "stdout",
     "output_type": "stream",
     "text": [
      "\u001b[1m39/39\u001b[0m \u001b[32m━━━━━━━━━━━━━━━━━━━━\u001b[0m\u001b[37m\u001b[0m \u001b[1m13s\u001b[0m 271ms/step\n"
     ]
    }
   ],
   "source": [
    "# Generate predictions using the fine-tuned model\n",
    "predictions = fine_tuned_model.predict(test_dataset)\n",
    "predicted_classes = np.argmax(predictions, axis=1)\n",
    "predicted_labels = label_encoder.inverse_transform(predicted_classes)"
   ]
  },
  {
   "cell_type": "code",
   "execution_count": 11,
   "id": "fc8c5b78",
   "metadata": {
    "execution": {
     "iopub.execute_input": "2025-03-22T22:13:00.177191Z",
     "iopub.status.busy": "2025-03-22T22:13:00.176917Z",
     "iopub.status.idle": "2025-03-22T22:13:00.180797Z",
     "shell.execute_reply": "2025-03-22T22:13:00.180133Z"
    },
    "papermill": {
     "duration": 0.077134,
     "end_time": "2025-03-22T22:13:00.182234",
     "exception": false,
     "start_time": "2025-03-22T22:13:00.105100",
     "status": "completed"
    },
    "tags": []
   },
   "outputs": [],
   "source": [
    "# Create the submission DataFrame\n",
    "submission_df = pd.DataFrame({\n",
    "    'md5hash': test_df['md5hash'],\n",
    "    'label': predicted_labels\n",
    "})"
   ]
  },
  {
   "cell_type": "code",
   "execution_count": 12,
   "id": "9dea0ec7",
   "metadata": {
    "execution": {
     "iopub.execute_input": "2025-03-22T22:13:00.325622Z",
     "iopub.status.busy": "2025-03-22T22:13:00.325339Z",
     "iopub.status.idle": "2025-03-22T22:13:00.340334Z",
     "shell.execute_reply": "2025-03-22T22:13:00.339508Z"
    },
    "papermill": {
     "duration": 0.08798,
     "end_time": "2025-03-22T22:13:00.341939",
     "exception": false,
     "start_time": "2025-03-22T22:13:00.253959",
     "status": "completed"
    },
    "tags": []
   },
   "outputs": [
    {
     "name": "stdout",
     "output_type": "stream",
     "text": [
      "                            md5hash                 label\n",
      "0  0844ae634f0e6e7ef1f73c2aeecbae0e     prurigo-nodularis\n",
      "1  3b290d262098f761d719aa07cf36c040  basal-cell-carcinoma\n",
      "2  cf561d08ac46d0fda678bff6621005ee  basal-cell-carcinoma\n",
      "3  e6371069be05c6b0a95b4b3f1bacc9a5         acne-vulgaris\n",
      "4  f76cddb37265f97508f159078dcc7e7c          folliculitis\n"
     ]
    }
   ],
   "source": [
    "# Remove .jpg from md5hash\n",
    "submission_df['md5hash'] = submission_df['md5hash'].str.replace('.jpg', '')\n",
    "\n",
    "# Save the submission file\n",
    "submission_df.to_csv('submission.csv', index=False)\n",
    "\n",
    "# Verify the first few rows\n",
    "print(submission_df.head())"
   ]
  }
 ],
 "metadata": {
  "kaggle": {
   "accelerator": "nvidiaTeslaT4",
   "dataSources": [
    {
     "databundleVersionId": 10898385,
     "sourceId": 90489,
     "sourceType": "competition"
    }
   ],
   "dockerImageVersionId": 30839,
   "isGpuEnabled": true,
   "isInternetEnabled": true,
   "language": "python",
   "sourceType": "notebook"
  },
  "kernelspec": {
   "display_name": "Python 3",
   "language": "python",
   "name": "python3"
  },
  "language_info": {
   "codemirror_mode": {
    "name": "ipython",
    "version": 3
   },
   "file_extension": ".py",
   "mimetype": "text/x-python",
   "name": "python",
   "nbconvert_exporter": "python",
   "pygments_lexer": "ipython3",
   "version": "3.10.12"
  },
  "papermill": {
   "default_parameters": {},
   "duration": 816.166678,
   "end_time": "2025-03-22T22:13:04.254945",
   "environment_variables": {},
   "exception": null,
   "input_path": "__notebook__.ipynb",
   "output_path": "__notebook__.ipynb",
   "parameters": {},
   "start_time": "2025-03-22T21:59:28.088267",
   "version": "2.6.0"
  }
 },
 "nbformat": 4,
 "nbformat_minor": 5
}
